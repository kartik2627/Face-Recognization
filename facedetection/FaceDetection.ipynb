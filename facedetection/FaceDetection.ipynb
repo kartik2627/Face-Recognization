{
 "cells": [
  {
   "cell_type": "code",
   "execution_count": 1,
   "id": "adec9dba",
   "metadata": {},
   "outputs": [
    {
     "name": "stdout",
     "output_type": "stream",
     "text": [
      "Requirement already satisfied: opencv-python in c:\\users\\karti\\anaconda3\\lib\\site-packages (4.9.0.80)\n",
      "Requirement already satisfied: numpy>=1.21.2 in c:\\users\\karti\\anaconda3\\lib\\site-packages (from opencv-python) (1.24.3)\n",
      "Note: you may need to restart the kernel to use updated packages.\n"
     ]
    }
   ],
   "source": [
    "pip install opencv-python\n"
   ]
  },
  {
   "cell_type": "code",
   "execution_count": 1,
   "id": "e88e819e",
   "metadata": {},
   "outputs": [],
   "source": [
    "import pandas as pd\n",
    "import numpy as np"
   ]
  },
  {
   "cell_type": "code",
   "execution_count": 2,
   "id": "d4a17568",
   "metadata": {},
   "outputs": [],
   "source": [
    "import cv2"
   ]
  },
  {
   "cell_type": "code",
   "execution_count": 16,
   "id": "9967e493",
   "metadata": {},
   "outputs": [],
   "source": [
    "cascade_classifier= cv2.CascadeClassifier(\"haarcascade_frontalface_default.xml\")"
   ]
  },
  {
   "cell_type": "code",
   "execution_count": 17,
   "id": "d9d7781f",
   "metadata": {},
   "outputs": [],
   "source": [
    "image = cv2.imread(\"chhichhoremoviereview170821_d.jpg\")"
   ]
  },
  {
   "cell_type": "code",
   "execution_count": 18,
   "id": "b5fed2e1",
   "metadata": {},
   "outputs": [],
   "source": [
    "cv2.imshow(\"Movie\",image)\n",
    "cv2.waitKey(0)\n",
    "cv2.destroyAllWindows()"
   ]
  },
  {
   "cell_type": "code",
   "execution_count": 19,
   "id": "ff6196a6",
   "metadata": {},
   "outputs": [],
   "source": [
    "grey_image= cv2.cvtColor(image,cv2.COLOR_BGR2GRAY)"
   ]
  },
  {
   "cell_type": "code",
   "execution_count": 20,
   "id": "89004a08",
   "metadata": {},
   "outputs": [],
   "source": [
    "cv2.imshow(\"Movie\",grey_image)\n",
    "cv2.waitKey(0)\n",
    "cv2.destroyAllWindows()"
   ]
  },
  {
   "cell_type": "code",
   "execution_count": 29,
   "id": "75b88613",
   "metadata": {},
   "outputs": [],
   "source": [
    "faces = cascade_classifier.detectMultiScale(image)"
   ]
  },
  {
   "cell_type": "code",
   "execution_count": 27,
   "id": "ac56e1a2",
   "metadata": {},
   "outputs": [
    {
     "data": {
      "text/plain": [
       "array([[ 432,  353,  119,  119],\n",
       "       [ 546,  518,  161,  161],\n",
       "       [ 174,  117,  149,  149],\n",
       "       [ 790,  338,  166,  166],\n",
       "       [ 419,  238,  157,  157],\n",
       "       [1056,  204,  116,  116],\n",
       "       [ 636,  220,  151,  151],\n",
       "       [ 938,  178,   52,   52],\n",
       "       [  47,  183,   62,   62],\n",
       "       [ 494,   38,  125,  125],\n",
       "       [1095,  109,   58,   58],\n",
       "       [ 355,   55,  507,  507]])"
      ]
     },
     "execution_count": 27,
     "metadata": {},
     "output_type": "execute_result"
    }
   ],
   "source": [
    "faces"
   ]
  },
  {
   "cell_type": "code",
   "execution_count": 28,
   "id": "8b43393c",
   "metadata": {},
   "outputs": [],
   "source": [
    "# Draw rectangles around detected faces\n",
    "for x, y, w, h in faces:\n",
    "    cv2.rectangle(image, (x, y), (x+w, y+h), (0, 0, 255), 2)\n",
    "\n",
    "# Display the image with rectangles drawn around faces\n",
    "cv2.imshow(\"Movie\", image)\n",
    "cv2.waitKey(0)\n",
    "cv2.destroyAllWindows()"
   ]
  },
  {
   "cell_type": "code",
   "execution_count": null,
   "id": "ab4c61a6",
   "metadata": {},
   "outputs": [],
   "source": []
  }
 ],
 "metadata": {
  "kernelspec": {
   "display_name": "Python 3 (ipykernel)",
   "language": "python",
   "name": "python3"
  },
  "language_info": {
   "codemirror_mode": {
    "name": "ipython",
    "version": 3
   },
   "file_extension": ".py",
   "mimetype": "text/x-python",
   "name": "python",
   "nbconvert_exporter": "python",
   "pygments_lexer": "ipython3",
   "version": "3.11.5"
  }
 },
 "nbformat": 4,
 "nbformat_minor": 5
}
