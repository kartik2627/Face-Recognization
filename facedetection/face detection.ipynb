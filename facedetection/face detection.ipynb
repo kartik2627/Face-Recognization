{
 "cells": [
  {
   "cell_type": "code",
   "execution_count": 1,
   "id": "0c054d1a",
   "metadata": {},
   "outputs": [],
   "source": [
    "import pandas as pd\n",
    "import numpy as np"
   ]
  },
  {
   "cell_type": "code",
   "execution_count": 2,
   "id": "e370c3d4",
   "metadata": {},
   "outputs": [],
   "source": [
    "import cv2"
   ]
  },
  {
   "cell_type": "code",
   "execution_count": 3,
   "id": "b772071b",
   "metadata": {},
   "outputs": [],
   "source": [
    "cascade_classifier= cv2.CascadeClassifier(\"haarcascade_frontalface_default.xml\")"
   ]
  },
  {
   "cell_type": "code",
   "execution_count": 4,
   "id": "2ce1b606",
   "metadata": {},
   "outputs": [],
   "source": [
    "capture = cv2.VideoCapture(0)\n"
   ]
  },
  {
   "cell_type": "code",
   "execution_count": 7,
   "id": "c51631a5",
   "metadata": {},
   "outputs": [],
   "source": [
    "while True:\n",
    "    _, frame = capture.read()\n",
    "    gray_image = cv2.cvtColor(frame, cv2.COLOR_BGR2GRAY)\n",
    "    faces = cascade_classifier.detectMultiScale(gray_image, scaleFactor=1.2)  # Adjust scale factor if necessary\n",
    "    for x, y, w, h in faces:\n",
    "        cv2.rectangle(frame, (x, y), (x+w, y+h), (0, 0, 255), 2)\n",
    "    cv2.imshow(\"Face Detection\", frame)  # Provide window name\n",
    "    if cv2.waitKey(1) == ord('q'):  # 'q' to quit\n",
    "        break\n",
    "\n",
    "capture.release()\n",
    "cv2.destroyAllWindows()"
   ]
  },
  {
   "cell_type": "code",
   "execution_count": 8,
   "id": "cce46e78",
   "metadata": {},
   "outputs": [],
   "source": [
    "capture.release()\n",
    "cv2.destroyAllWindows()\n"
   ]
  },
  {
   "cell_type": "code",
   "execution_count": 9,
   "id": "7f5d977b",
   "metadata": {},
   "outputs": [],
   "source": [
    "import pandas as pd\n",
    "import numpy as np\n",
    "import cv2\n",
    "\n",
    "cascade_classifier = cv2.CascadeClassifier(\"haarcascade_frontalface_default.xml\")\n",
    "\n",
    "# Open the default camera\n",
    "capture = cv2.VideoCapture(0)\n",
    "\n",
    "while True:\n",
    "    _, frame = capture.read()\n",
    "    gray_image = cv2.cvtColor(frame, cv2.COLOR_BGR2GRAY)\n",
    "    \n",
    "    # Adjust parameters here as needed\n",
    "    faces = cascade_classifier.detectMultiScale(gray_image, scaleFactor=1.2, minNeighbors=5, minSize=(30, 30))\n",
    "    \n",
    "    \n",
    "    for x, y, w, h in faces:\n",
    "        cv2.rectangle(frame, (x, y), (x+w, y+h), (0, 0, 255), 2)\n",
    "        name = \"kartikay\"\n",
    "        \n",
    "        cv2.putText(frame,name,(x,y-10),cv.)\n",
    "    \n",
    "    cv2.imshow(\"Face Detection\", frame)  # Provide window name\n",
    "    if cv2.waitKey(1) == ord('q'):  # 'q' to quit\n",
    "        break\n",
    "\n",
    "# Release the camera and close all OpenCV windows\n",
    "capture.release()\n",
    "cv2.destroyAllWindows()\n"
   ]
  },
  {
   "cell_type": "code",
   "execution_count": null,
   "id": "c1f25bab",
   "metadata": {},
   "outputs": [],
   "source": []
  }
 ],
 "metadata": {
  "kernelspec": {
   "display_name": "Python 3 (ipykernel)",
   "language": "python",
   "name": "python3"
  },
  "language_info": {
   "codemirror_mode": {
    "name": "ipython",
    "version": 3
   },
   "file_extension": ".py",
   "mimetype": "text/x-python",
   "name": "python",
   "nbconvert_exporter": "python",
   "pygments_lexer": "ipython3",
   "version": "3.11.5"
  }
 },
 "nbformat": 4,
 "nbformat_minor": 5
}
