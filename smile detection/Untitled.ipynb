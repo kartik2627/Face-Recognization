{
 "cells": [
  {
   "cell_type": "code",
   "execution_count": 17,
   "id": "f3a46af9",
   "metadata": {},
   "outputs": [],
   "source": [
    "import pandas as pd\n",
    "import numpy as np"
   ]
  },
  {
   "cell_type": "code",
   "execution_count": 18,
   "id": "5877452e",
   "metadata": {},
   "outputs": [],
   "source": [
    "import cv2"
   ]
  },
  {
   "cell_type": "code",
   "execution_count": 19,
   "id": "ff620c9e",
   "metadata": {},
   "outputs": [],
   "source": [
    "cascade_classifier= cv2.CascadeClassifier(\"haarcascade_smile.xml\")"
   ]
  },
  {
   "cell_type": "code",
   "execution_count": 38,
   "id": "8e94b8e9",
   "metadata": {},
   "outputs": [],
   "source": [
    "image = cv2.imread(\"virat.jpeg\")"
   ]
  },
  {
   "cell_type": "code",
   "execution_count": 39,
   "id": "6b19f99a",
   "metadata": {},
   "outputs": [],
   "source": [
    "cv2.imshow(\"Smile\",image)\n",
    "cv2.waitKey(0)\n",
    "cv2.destroyAllWindows()"
   ]
  },
  {
   "cell_type": "code",
   "execution_count": 40,
   "id": "7692c2d7",
   "metadata": {},
   "outputs": [],
   "source": [
    "grey_image= cv2.cvtColor(image,cv2.COLOR_BGR2GRAY)"
   ]
  },
  {
   "cell_type": "code",
   "execution_count": 41,
   "id": "89445f44",
   "metadata": {},
   "outputs": [],
   "source": [
    "cv2.imshow(\"smilling\",grey_image)\n",
    "cv2.waitKey(0)\n",
    "cv2.destroyAllWindows()"
   ]
  },
  {
   "cell_type": "code",
   "execution_count": 42,
   "id": "952bbfe1",
   "metadata": {},
   "outputs": [],
   "source": [
    "faces = cascade_classifier.detectMultiScale(grey_image, scaleFactor=1.1, minNeighbors=5, minSize=(30, 30))"
   ]
  },
  {
   "cell_type": "code",
   "execution_count": 43,
   "id": "433a3301",
   "metadata": {},
   "outputs": [
    {
     "data": {
      "text/plain": [
       "array([[104,  22,  92,  46],\n",
       "       [113,  70, 119,  60],\n",
       "       [194,  25,  95,  47],\n",
       "       [ 33,  67,  86,  43]])"
      ]
     },
     "execution_count": 43,
     "metadata": {},
     "output_type": "execute_result"
    }
   ],
   "source": [
    "faces"
   ]
  },
  {
   "cell_type": "code",
   "execution_count": 44,
   "id": "a805f5c0",
   "metadata": {},
   "outputs": [],
   "source": [
    "# Draw rectangles around detected faces\n",
    "for x, y, w, h in faces:\n",
    "    cv2.rectangle(image, (x, y), (x+w, y+h), (0, 0, 255), 2)\n",
    "\n",
    "# Display the image with rectangles drawn around faces\n",
    "cv2.imshow(\"Smilling\", image)\n",
    "cv2.waitKey(0)\n",
    "cv2.destroyAllWindows()"
   ]
  },
  {
   "cell_type": "code",
   "execution_count": null,
   "id": "c917a841",
   "metadata": {},
   "outputs": [],
   "source": []
  }
 ],
 "metadata": {
  "kernelspec": {
   "display_name": "Python 3 (ipykernel)",
   "language": "python",
   "name": "python3"
  },
  "language_info": {
   "codemirror_mode": {
    "name": "ipython",
    "version": 3
   },
   "file_extension": ".py",
   "mimetype": "text/x-python",
   "name": "python",
   "nbconvert_exporter": "python",
   "pygments_lexer": "ipython3",
   "version": "3.11.5"
  }
 },
 "nbformat": 4,
 "nbformat_minor": 5
}
